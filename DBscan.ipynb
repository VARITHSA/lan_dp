{
 "cells": [
  {
   "cell_type": "code",
   "execution_count": 54,
   "id": "b619ba01-b904-41cf-b360-a68b49c4ae82",
   "metadata": {},
   "outputs": [],
   "source": [
    "from sklearn.cluster import DBSCAN\n",
    "import matplotlib.pyplot as plt\n",
    "%matplotlib inline\n",
    "import pandas as pd\n",
    "import numpy as np\n",
    "from sklearn.datasets import make_circles,load_iris"
   ]
  },
  {
   "cell_type": "code",
   "execution_count": 62,
   "id": "9135accd-607c-40fe-a38e-c28506f283a7",
   "metadata": {},
   "outputs": [
    {
     "data": {
      "text/plain": [
       "array([[1.4],\n",
       "       [1.4],\n",
       "       [1.3],\n",
       "       [1.5],\n",
       "       [1.4],\n",
       "       [1.7],\n",
       "       [1.4],\n",
       "       [1.5],\n",
       "       [1.4],\n",
       "       [1.5],\n",
       "       [1.5],\n",
       "       [1.6],\n",
       "       [1.4],\n",
       "       [1.1],\n",
       "       [1.2],\n",
       "       [1.5],\n",
       "       [1.3],\n",
       "       [1.4],\n",
       "       [1.7],\n",
       "       [1.5],\n",
       "       [1.7],\n",
       "       [1.5],\n",
       "       [1. ],\n",
       "       [1.7],\n",
       "       [1.9],\n",
       "       [1.6],\n",
       "       [1.6],\n",
       "       [1.5],\n",
       "       [1.4],\n",
       "       [1.6],\n",
       "       [1.6],\n",
       "       [1.5],\n",
       "       [1.5],\n",
       "       [1.4],\n",
       "       [1.5],\n",
       "       [1.2],\n",
       "       [1.3],\n",
       "       [1.4],\n",
       "       [1.3],\n",
       "       [1.5],\n",
       "       [1.3],\n",
       "       [1.3],\n",
       "       [1.3],\n",
       "       [1.6],\n",
       "       [1.9],\n",
       "       [1.4],\n",
       "       [1.6],\n",
       "       [1.4],\n",
       "       [1.5],\n",
       "       [1.4],\n",
       "       [4.7],\n",
       "       [4.5],\n",
       "       [4.9],\n",
       "       [4. ],\n",
       "       [4.6],\n",
       "       [4.5],\n",
       "       [4.7],\n",
       "       [3.3],\n",
       "       [4.6],\n",
       "       [3.9],\n",
       "       [3.5],\n",
       "       [4.2],\n",
       "       [4. ],\n",
       "       [4.7],\n",
       "       [3.6],\n",
       "       [4.4],\n",
       "       [4.5],\n",
       "       [4.1],\n",
       "       [4.5],\n",
       "       [3.9],\n",
       "       [4.8],\n",
       "       [4. ],\n",
       "       [4.9],\n",
       "       [4.7],\n",
       "       [4.3],\n",
       "       [4.4],\n",
       "       [4.8],\n",
       "       [5. ],\n",
       "       [4.5],\n",
       "       [3.5],\n",
       "       [3.8],\n",
       "       [3.7],\n",
       "       [3.9],\n",
       "       [5.1],\n",
       "       [4.5],\n",
       "       [4.5],\n",
       "       [4.7],\n",
       "       [4.4],\n",
       "       [4.1],\n",
       "       [4. ],\n",
       "       [4.4],\n",
       "       [4.6],\n",
       "       [4. ],\n",
       "       [3.3],\n",
       "       [4.2],\n",
       "       [4.2],\n",
       "       [4.2],\n",
       "       [4.3],\n",
       "       [3. ],\n",
       "       [4.1],\n",
       "       [6. ],\n",
       "       [5.1],\n",
       "       [5.9],\n",
       "       [5.6],\n",
       "       [5.8],\n",
       "       [6.6],\n",
       "       [4.5],\n",
       "       [6.3],\n",
       "       [5.8],\n",
       "       [6.1],\n",
       "       [5.1],\n",
       "       [5.3],\n",
       "       [5.5],\n",
       "       [5. ],\n",
       "       [5.1],\n",
       "       [5.3],\n",
       "       [5.5],\n",
       "       [6.7],\n",
       "       [6.9],\n",
       "       [5. ],\n",
       "       [5.7],\n",
       "       [4.9],\n",
       "       [6.7],\n",
       "       [4.9],\n",
       "       [5.7],\n",
       "       [6. ],\n",
       "       [4.8],\n",
       "       [4.9],\n",
       "       [5.6],\n",
       "       [5.8],\n",
       "       [6.1],\n",
       "       [6.4],\n",
       "       [5.6],\n",
       "       [5.1],\n",
       "       [5.6],\n",
       "       [6.1],\n",
       "       [5.6],\n",
       "       [5.5],\n",
       "       [4.8],\n",
       "       [5.4],\n",
       "       [5.6],\n",
       "       [5.1],\n",
       "       [5.1],\n",
       "       [5.9],\n",
       "       [5.7],\n",
       "       [5.2],\n",
       "       [5. ],\n",
       "       [5.2],\n",
       "       [5.4],\n",
       "       [5.1]])"
      ]
     },
     "execution_count": 62,
     "metadata": {},
     "output_type": "execute_result"
    }
   ],
   "source": [
    "X,y = make_circles(n_samples = 700,factor = 0.3,noise = 0.1)\n",
    "iris = load_iris()\n",
    "df = pd.DataFrame(data = iris.data,columns = iris.feature_names)\n",
    "x1 = df[['petal length (cm)','petal width (cm)']]\n",
    "X = np.array(x1['petal length (cm)']).reshape(-1,1)\n",
    "X"
   ]
  },
  {
   "cell_type": "code",
   "execution_count": 46,
   "id": "652af974-c113-41df-b82c-c068224acc8f",
   "metadata": {},
   "outputs": [
    {
     "data": {
      "text/plain": [
       "<matplotlib.collections.PathCollection at 0x2aa153a7fe0>"
      ]
     },
     "execution_count": 46,
     "metadata": {},
     "output_type": "execute_result"
    },
    {
     "data": {
      "image/png": "[encoded data removed]",
      "text/plain": [
       "<Figure size 640x480 with 1 Axes>"
      ]
     },
     "metadata": {},
     "output_type": "display_data"
    }
   ],
   "source": [
    "plt.scatter(x1.iloc[:,0],x1.iloc[:,1])"
   ]
  },
  {
   "cell_type": "code",
   "execution_count": 50,
   "id": "ec1c20de-8847-4942-b32a-745488a5cbc2",
   "metadata": {},
   "outputs": [],
   "source": [
    "dbscan = DBSCAN(eps = 0.10)\n"
   ]
  },
  {
   "cell_type": "code",
   "execution_count": 64,
   "id": "52e4d3d7-a450-4abb-abf8-b07e6c67f303",
   "metadata": {},
   "outputs": [
    {
     "data": {
      "text/plain": [
       "array([ 0,  0,  0,  1,  0,  2,  0,  1,  0,  1,  1,  2,  0, -1, -1,  1,  0,\n",
       "        0,  2,  1,  2,  1, -1,  2, -1,  2,  2,  1,  0,  2,  2,  1,  1,  0,\n",
       "        1, -1,  0,  0,  0,  1,  0,  0,  0,  2, -1,  0,  2,  0,  1,  0,  3,\n",
       "        4,  5,  6,  4,  4,  3, -1,  4, -1, -1,  7,  6,  3, -1,  4,  4,  6,\n",
       "        4, -1,  3,  6,  5,  3,  7,  4,  3,  5,  4, -1, -1, -1, -1,  5,  4,\n",
       "        4,  3,  4,  6,  6,  4,  4,  6, -1,  7,  7,  7,  7, -1,  6,  8,  5,\n",
       "        8,  9, 10, -1,  4, -1, 10,  8,  5, -1,  9,  5,  5, -1,  9, -1, -1,\n",
       "        5, 10,  5, -1,  5, 10,  8,  3,  5,  9, 10,  8, -1,  9,  5,  9,  8,\n",
       "        9,  9,  3,  9,  9,  5,  5,  8, 10, -1,  5, -1,  9,  5],\n",
       "      dtype=int64)"
      ]
     },
     "execution_count": 64,
     "metadata": {},
     "output_type": "execute_result"
    }
   ],
   "source": [
    "dbscan.fit_predict(X)"
   ]
  },
  {
   "cell_type": "code",
   "execution_count": 74,
   "id": "c1a586a1-8c23-4abc-9096-93a45b8be1dd",
   "metadata": {},
   "outputs": [
    {
     "data": {
      "text/plain": [
       "array([ 0,  0,  0,  1,  0,  2,  0,  1,  0,  1,  1,  2,  0, -1, -1,  1,  0,\n",
       "        0,  2,  1,  2,  1, -1,  2, -1,  2,  2,  1,  0,  2,  2,  1,  1,  0,\n",
       "        1, -1,  0,  0,  0,  1,  0,  0,  0,  2, -1,  0,  2,  0,  1,  0,  3,\n",
       "        4,  5,  6,  4,  4,  3, -1,  4, -1, -1,  7,  6,  3, -1,  4,  4,  6,\n",
       "        4, -1,  3,  6,  5,  3,  7,  4,  3,  5,  4, -1, -1, -1, -1,  5,  4,\n",
       "        4,  3,  4,  6,  6,  4,  4,  6, -1,  7,  7,  7,  7, -1,  6,  8,  5,\n",
       "        8,  9, 10, -1,  4, -1, 10,  8,  5, -1,  9,  5,  5, -1,  9, -1, -1,\n",
       "        5, 10,  5, -1,  5, 10,  8,  3,  5,  9, 10,  8, -1,  9,  5,  9,  8,\n",
       "        9,  9,  3,  9,  9,  5,  5,  8, 10, -1,  5, -1,  9,  5],\n",
       "      dtype=int64)"
      ]
     },
     "execution_count": 74,
     "metadata": {},
     "output_type": "execute_result"
    }
   ],
   "source": [
    "dbscan.labels_"
   ]
  },
  {
   "cell_type": "code",
   "execution_count": 78,
   "id": "5aa88c38-5ad2-4d6f-bde4-ce51aa23c34d",
   "metadata": {},
   "outputs": [
    {
     "data": {
      "text/plain": [
       "(array([ 13,  14,  22,  24,  35,  44,  57,  59,  60,  64,  69,  79,  80,\n",
       "         81,  82,  93,  98, 105, 107, 111, 115, 117, 118, 122, 131, 145,\n",
       "        147], dtype=int64),)"
      ]
     },
     "execution_count": 78,
     "metadata": {},
     "output_type": "execute_result"
    }
   ],
   "source": [
    "ab_id = np.where(dbscan.labels_<0)\n",
    "ab_id"
   ]
  },
  {
   "cell_type": "code",
   "execution_count": 90,
   "id": "bc2c341a-590d-41cc-9e05-33a2f4e04f46",
   "metadata": {},
   "outputs": [
    {
     "data": {
      "image/png": "[encoded data removed]",
      "text/plain": [
       "<Figure size 640x480 with 1 Axes>"
      ]
     },
     "metadata": {},
     "output_type": "display_data"
    }
   ],
   "source": [
    "ab_ind = np.where(dbscan.labels_<0)\n",
    "plt.scatter(df.iloc[:,0],df.iloc[:,1])\n",
    "plt.scatter(x[ab_ind,0],x[ab_ind,1], edgecolors = 'r',label = 'outlier')\n",
    "plt.xlabel('petal lenght')\n",
    "plt.ylabel('petal width')\n",
    "plt.legend()\n",
    "plt.show()"
   ]
  },
  {
   "cell_type": "code",
   "execution_count": null,
   "id": "e7ccb99e-e0fe-4b6c-835d-8d2de46f83e3",
   "metadata": {},
   "outputs": [],
   "source": []
  }
 ],
 "metadata": {
  "kernelspec": {
   "display_name": "Python 3 (ipykernel)",
   "language": "python",
   "name": "python3"
  },
  "language_info": {
   "codemirror_mode": {
    "name": "ipython",
    "version": 3
   },
   "file_extension": ".py",
   "mimetype": "text/x-python",
   "name": "python",
   "nbconvert_exporter": "python",
   "pygments_lexer": "ipython3",
   "version": "3.12.4"
  }
 },
 "nbformat": 4,
 "nbformat_minor": 5
}
